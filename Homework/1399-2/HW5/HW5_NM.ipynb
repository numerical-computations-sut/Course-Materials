{
  "nbformat": 4,
  "nbformat_minor": 0,
  "metadata": {
    "colab": {
      "name": "HW5_NM.ipynb",
      "provenance": [],
      "collapsed_sections": [],
      "toc_visible": true
    },
    "kernelspec": {
      "name": "python3",
      "display_name": "Python 3"
    },
    "language_info": {
      "name": "python"
    }
  },
  "cells": [
    {
      "cell_type": "markdown",
      "metadata": {
        "id": "e2xJNvkvNu30"
      },
      "source": [
        "Execute these sections to install the needed libraries."
      ]
    },
    {
      "cell_type": "code",
      "metadata": {
        "id": "3YAP5X7JNpcZ"
      },
      "source": [
        "!pip install pandas"
      ],
      "execution_count": null,
      "outputs": []
    },
    {
      "cell_type": "code",
      "metadata": {
        "id": "C509btsuNsaI"
      },
      "source": [
        "!pip install matplotlib"
      ],
      "execution_count": null,
      "outputs": []
    },
    {
      "cell_type": "markdown",
      "metadata": {
        "id": "qYUhidaiRuLX"
      },
      "source": [
        "#Get the Plot"
      ]
    },
    {
      "cell_type": "code",
      "metadata": {
        "id": "E3n66sCtNuSB"
      },
      "source": [
        "import pandas as pd\n",
        "import matplotlib.pyplot as plt\n",
        "\n",
        "path = \"YOUR_PATH\"              #Enter the path to \"data.xlsx\"\n",
        "\n",
        "df = pd.read_excel(path)\n",
        "\n",
        "X       = df['x_n'].to_list()\n",
        "eu      = df['Euler'].to_list()\n",
        "meu     = df['Modified Euler'].to_list()\n",
        "rk4     = df['RK4'].to_list()\n",
        "actual  = df['Actual'].to_list()\n",
        "\n",
        "plt.plot(X, eu,  color='r',     label='Euler')\n",
        "plt.plot(X, meu, color='g',     label='Modified Euler')\n",
        "plt.plot(X, rk4, color='b',     label='RK4')\n",
        "plt.plot(X, RK4, color='black', label='Actual Values')\n",
        "\n",
        "\n",
        "plt.xlabel(\"X\")\n",
        "plt.ylabel(\"Y\")\n",
        "plt.title(\"Comparisson of Actual values and Numerical Methods\")\n",
        "plt.legend()\n",
        "  \n",
        "plt.show()"
      ],
      "execution_count": null,
      "outputs": []
    },
    {
      "cell_type": "markdown",
      "metadata": {
        "id": "fgMyYO7URxYh"
      },
      "source": [
        "Which method is working better? Explain the reason in ***maximum*** 3 sentences. ^__^"
      ]
    }
  ]
}